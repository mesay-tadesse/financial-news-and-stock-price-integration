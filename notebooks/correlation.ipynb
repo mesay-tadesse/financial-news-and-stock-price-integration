{
 "cells": [
  {
   "cell_type": "markdown",
   "id": "fd3ce634",
   "metadata": {},
   "source": [
    "# Task 3: News Sentiment and Stock Price Correlation Analysis\n"
   ]
  },
  {
   "cell_type": "code",
   "execution_count": 1,
   "id": "d0ed4b8a",
   "metadata": {},
   "outputs": [],
   "source": [
    "import sys\n",
    "sys.path.append('..')\n",
    "import pandas as pd\n",
    "import numpy as np\n",
    "import matplotlib.pyplot as plt\n",
    "import seaborn as sns\n",
    "from pathlib import Path\n",
    "from textblob import TextBlob\n",
    "\n",
    "# Import utility functions\n",
    "from src.sentiment_analysis import analyze_headlines, aggregate_daily_sentiment\n",
    "from src.correlation_analysis import calculate_returns, align_sentiment_returns, calculate_correlation_metrics\n",
    "\n",
    "%matplotlib inline\n",
    "plt.style.use('ggplot')\n",
    "plt.rcParams['figure.figsize'] = [12, 6]"
   ]
  },
  {
   "cell_type": "markdown",
   "id": "48124eb8",
   "metadata": {},
   "source": [
    "## Load and Prepare Data"
   ]
  },
  {
   "cell_type": "code",
   "execution_count": 2,
   "id": "445d1569",
   "metadata": {},
   "outputs": [
    {
     "name": "stdout",
     "output_type": "stream",
     "text": [
      "Loaded news data shape: (1407328, 6)\n",
      "Loaded AAPL_HISTORICAL_DATA data with shape: (10998, 9)\n",
      "Loaded AMZN_HISTORICAL_DATA data with shape: (6846, 9)\n",
      "Loaded GOOG_HISTORICAL_DATA data with shape: (5020, 9)\n",
      "Loaded META_HISTORICAL_DATA data with shape: (2926, 9)\n",
      "Loaded MSFT_HISTORICAL_DATA data with shape: (9672, 9)\n",
      "Loaded NVDA_HISTORICAL_DATA data with shape: (6421, 9)\n",
      "Loaded TSLA_HISTORICAL_DATA data with shape: (3545, 9)\n"
     ]
    }
   ],
   "source": [
    "# Load news data\n",
    "NEWS_FILE_PATH = '../data/raw_analyst_ratings.csv'\n",
    "try:\n",
    "    news_df = pd.read_csv(NEWS_FILE_PATH)\n",
    "    print(f\"Loaded news data shape: {news_df.shape}\")\n",
    "except FileNotFoundError:\n",
    "    print(f\"News data file not found at {NEWS_FILE_PATH}\")\n",
    "    news_df = pd.DataFrame()\n",
    "\n",
    "# Load stock data\n",
    "STOCK_DATA_DIR = Path('../data/yfinance_data')\n",
    "stock_dfs = {}\n",
    "\n",
    "if STOCK_DATA_DIR.exists():\n",
    "    for file in STOCK_DATA_DIR.glob('*.csv'):\n",
    "        symbol = file.stem.upper()\n",
    "        df = pd.read_csv(file)\n",
    "        df['Date'] = pd.to_datetime(df['Date'])\n",
    "        stock_dfs[symbol] = df\n",
    "        print(f\"Loaded {symbol} data with shape: {df.shape}\")"
   ]
  },
  {
   "cell_type": "markdown",
   "id": "a9287be9",
   "metadata": {},
   "source": [
    "## Sentiment Analysis"
   ]
  },
  {
   "cell_type": "code",
   "execution_count": 3,
   "id": "883f1037",
   "metadata": {},
   "outputs": [
    {
     "data": {
      "image/png": "[encoded data removed]",
      "text/plain": [
       "<Figure size 1000x600 with 1 Axes>"
      ]
     },
     "metadata": {},
     "output_type": "display_data"
    }
   ],
   "source": [
    "if not news_df.empty and 'headline' in news_df.columns:\n",
    "    # Perform sentiment analysis\n",
    "    sentiment_df = analyze_headlines(news_df['headline'].tolist())\n",
    "    \n",
    "    # Add dates and symbols if available\n",
    "    sentiment_df['date'] = pd.to_datetime(news_df['date'],format=\"ISO8601\")\n",
    "    if 'symbol' in news_df.columns:\n",
    "        sentiment_df['symbol'] = news_df['symbol'].str.upper()\n",
    "    \n",
    "    # Aggregate daily sentiment\n",
    "    daily_sentiment = aggregate_daily_sentiment(\n",
    "        sentiment_df,\n",
    "        date_column='date',\n",
    "        symbol_column_name='symbol' if 'symbol' in news_df.columns else None\n",
    "    )\n",
    "    \n",
    "    # Plot sentiment distribution\n",
    "    plt.figure(figsize=(10, 6))\n",
    "    sns.histplot(data=sentiment_df, x='polarity', bins=50)\n",
    "    plt.title('Distribution of Sentiment Polarity')\n",
    "    plt.show()"
   ]
  },
  {
   "cell_type": "markdown",
   "id": "0b6448c0",
   "metadata": {},
   "source": [
    "## Calculate Stock Returns"
   ]
  },
  {
   "cell_type": "code",
   "execution_count": 4,
   "id": "026e4ec4",
   "metadata": {},
   "outputs": [
    {
     "name": "stdout",
     "output_type": "stream",
     "text": [
      "\n",
      "Returns statistics for AAPL_HISTORICAL_DATA:\n",
      "            returns\n",
      "count  10997.000000\n",
      "mean       0.001073\n",
      "std        0.027895\n",
      "min       -0.518692\n",
      "25%       -0.012710\n",
      "50%        0.000000\n",
      "75%        0.014451\n",
      "max        0.332280\n",
      "\n",
      "Returns statistics for AMZN_HISTORICAL_DATA:\n",
      "           returns\n",
      "count  6845.000000\n",
      "mean      0.001716\n",
      "std       0.035429\n",
      "min      -0.247661\n",
      "25%      -0.013028\n",
      "50%       0.000409\n",
      "75%       0.014671\n",
      "max       0.344714\n",
      "\n",
      "Returns statistics for GOOG_HISTORICAL_DATA:\n",
      "           returns\n",
      "count  5019.000000\n",
      "mean      0.001029\n",
      "std       0.019318\n",
      "min      -0.116091\n",
      "25%      -0.007854\n",
      "50%       0.000802\n",
      "75%       0.010138\n",
      "max       0.199915\n",
      "\n",
      "Returns statistics for META_HISTORICAL_DATA:\n",
      "           returns\n",
      "count  2925.000000\n",
      "mean      0.001260\n",
      "std       0.024277\n",
      "min      -0.263901\n",
      "25%      -0.009598\n",
      "50%       0.001077\n",
      "75%       0.012652\n",
      "max       0.296115\n",
      "\n",
      "Returns statistics for MSFT_HISTORICAL_DATA:\n",
      "           returns\n",
      "count  9671.000000\n",
      "mean      0.001091\n",
      "std       0.021126\n",
      "min      -0.301159\n",
      "25%      -0.009207\n",
      "50%       0.000346\n",
      "75%       0.011232\n",
      "max       0.195652\n",
      "\n",
      "Returns statistics for NVDA_HISTORICAL_DATA:\n",
      "           returns\n",
      "count  6420.000000\n",
      "mean      0.001933\n",
      "std       0.037865\n",
      "min      -0.352336\n",
      "25%      -0.016273\n",
      "50%       0.001240\n",
      "75%       0.018227\n",
      "max       0.424148\n",
      "\n",
      "Returns statistics for TSLA_HISTORICAL_DATA:\n",
      "           returns\n",
      "count  3544.000000\n",
      "mean      0.002035\n",
      "std       0.035871\n",
      "min      -0.210628\n",
      "25%      -0.016076\n",
      "50%       0.001223\n",
      "75%       0.019257\n",
      "max       0.243951\n"
     ]
    }
   ],
   "source": [
    "stock_returns = {}\n",
    "for symbol, df in stock_dfs.items():\n",
    "    # Calculate daily returns\n",
    "    returns = calculate_returns(df['Close'])\n",
    "    stock_returns[symbol] = pd.DataFrame({\n",
    "        'date': df['Date'],\n",
    "        'returns': returns\n",
    "    }).set_index('date')\n",
    "    \n",
    "    print(f\"\\nReturns statistics for {symbol}:\")\n",
    "    print(stock_returns[symbol].describe())"
   ]
  },
  {
   "cell_type": "markdown",
   "id": "6da468f1",
   "metadata": {},
   "source": [
    "## Correlation Analysis"
   ]
  },
  {
   "cell_type": "code",
   "execution_count": 5,
   "id": "1d95f07c",
   "metadata": {},
   "outputs": [
    {
     "name": "stdout",
     "output_type": "stream",
     "text": [
      "Error analyzing AAPL_HISTORICAL_DATA: Missing required columns in returns_df: {'Date'}\n",
      "Error analyzing AMZN_HISTORICAL_DATA: Missing required columns in returns_df: {'Date'}\n",
      "Error analyzing GOOG_HISTORICAL_DATA: Missing required columns in returns_df: {'Date'}\n",
      "Error analyzing META_HISTORICAL_DATA: Missing required columns in returns_df: {'Date'}\n",
      "Error analyzing MSFT_HISTORICAL_DATA: Missing required columns in returns_df: {'Date'}\n",
      "Error analyzing NVDA_HISTORICAL_DATA: Missing required columns in returns_df: {'Date'}\n",
      "Error analyzing TSLA_HISTORICAL_DATA: Missing required columns in returns_df: {'Date'}\n"
     ]
    }
   ],
   "source": [
    "correlation_results = {}\n",
    "\n",
    "for symbol, returns_df in stock_returns.items():\n",
    "    try:\n",
    "        # Get stock-specific sentiment if available\n",
    "        if 'symbol' in daily_sentiment.columns:\n",
    "            stock_sentiment = daily_sentiment[daily_sentiment['symbol'] == symbol]\n",
    "        else:\n",
    "            stock_sentiment = daily_sentiment\n",
    "        \n",
    "        # Align sentiment and returns data\n",
    "        aligned_data = align_sentiment_returns(\n",
    "            stock_sentiment,\n",
    "            returns_df,\n",
    "            'date',\n",
    "            'Date'\n",
    "        )\n",
    "        \n",
    "        # Calculate correlation metrics\n",
    "        metrics = calculate_correlation_metrics(\n",
    "            aligned_data['mean_polarity'],\n",
    "            aligned_data['returns']\n",
    "        )\n",
    "        \n",
    "        correlation_results[symbol] = metrics\n",
    "        \n",
    "        # Create scatter plot\n",
    "        plt.figure(figsize=(10, 6))\n",
    "        sns.regplot(data=aligned_data, x='mean_polarity', y='returns')\n",
    "        plt.title(f'Sentiment vs Returns Correlation for {symbol}')\n",
    "        plt.xlabel('Sentiment Polarity')\n",
    "        plt.ylabel('Returns')\n",
    "        \n",
    "        # Add correlation stats to plot\n",
    "        plt.text(0.05, 0.95,\n",
    "                 f\"Pearson correlation: {metrics['pearson_correlation']:.3f}\\n\"\n",
    "                 f\"p-value: {metrics['pearson_p_value']:.3f}\",\n",
    "                 transform=plt.gca().transAxes,\n",
    "                 bbox=dict(facecolor='white', alpha=0.8))\n",
    "        plt.show()\n",
    "        \n",
    "    except Exception as e:\n",
    "        print(f\"Error analyzing {symbol}: {str(e)}\")\n",
    "        correlation_results[symbol] = {'error': str(e)}\n"
   ]
  },
  {
   "cell_type": "code",
   "execution_count": 13,
   "id": "10c9be59",
   "metadata": {},
   "outputs": [],
   "source": [
    "# Create summary DataFrame\n",
    "summary_data = []\n",
    "for symbol, metrics in correlation_results.items():\n",
    "    if 'error' not in metrics:\n",
    "        summary_data.append({\n",
    "            'Symbol': symbol,\n",
    "            'Pearson Correlation': metrics['pearson_correlation'],\n",
    "            'P-value': metrics['pearson_p_value'],\n",
    "            'Significant at 5%': metrics['pearson_p_value'] < 0.05,\n",
    "            'Observations': metrics['n_observations']\n",
    "        })\n",
    "\n",
    "if summary_data:\n",
    "    summary_df = pd.DataFrame(summary_data)\n",
    "    summary_df = summary_df.sort_values('Pearson Correlation', ascending=False)\n",
    "    print(\"\\nCorrelation Analysis Summary:\")\n",
    "    print(summary_df)\n",
    "    \n",
    "    # Plot correlation heatmap for significant relationships\n",
    "    significant_correlations = summary_df[summary_df['Significant at 5%']]\n",
    "    if not significant_correlations.empty:\n",
    "        plt.figure(figsize=(10, 6))\n",
    "        sns.barplot(data=significant_correlations,\n",
    "                    x='Symbol',\n",
    "                    y='Pearson Correlation')\n",
    "        plt.title('Significant Sentiment-Returns Correlations')\n",
    "        plt.xticks(rotation=45)\n",
    "        plt.show()"
   ]
  }
 ],
 "metadata": {
  "kernelspec": {
   "display_name": "Python 3 (ipykernel)",
   "language": "python",
   "name": "python3"
  },
  "language_info": {
   "codemirror_mode": {
    "name": "ipython",
    "version": 3
   },
   "file_extension": ".py",
   "mimetype": "text/x-python",
   "name": "python",
   "nbconvert_exporter": "python",
   "pygments_lexer": "ipython3",
   "version": "3.13.3"
  }
 },
 "nbformat": 4,
 "nbformat_minor": 5
}
